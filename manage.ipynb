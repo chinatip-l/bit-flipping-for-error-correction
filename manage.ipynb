{
 "cells": [
  {
   "cell_type": "code",
   "execution_count": 6,
   "metadata": {},
   "outputs": [
    {
     "name": "stdout",
     "output_type": "stream",
     "text": [
      "gdbf_multi_escape_paper_N96K48_theta_-0.10.mat\n",
      "gdbf_multi_escape_paper_N504K252_theta_-1.00.mat\n",
      "gdbf_multi_escape_paper_N96K48_theta_-1.20.mat\n",
      "gdbf_multi_escape_paper_N96K48_theta_-1.10.mat\n",
      "gdbf_multi_escape_paper_N504K252_theta_-1.20.mat\n",
      "gdbf_multi_escape_paper_N96K48_theta_-0.70.mat\n",
      "gdbf_multi_escape_paper_N504K252_theta_-0.10.mat\n",
      "gdbf_multi_escape_paper_N504K252_theta_-0.90.mat\n",
      "gdbf_multi_escape_paper_N504K252_theta_-1.10.mat\n",
      "gdbf_multi_escape_paper_N96K48_theta_-0.60.mat\n",
      "gdbf_multi_escape_paper_N96K48_theta_-0.20.mat\n",
      "gdbf_multi_escape_paper_N504K252_theta_-0.20.mat\n",
      "gdbf_multi_escape_paper_N96K48_theta_-0.90.mat\n",
      "gdbf_multi_escape_paper_N96K48_theta_-0.40.mat\n",
      "gdbf_multi_escape_paper_N96K48_theta_-0.80.mat\n",
      "gdbf_multi_escape_paper_N504K252_theta_-1.40.mat\n",
      "gdbf_multi_escape_paper_N96K48_theta_-0.30.mat\n",
      "gdbf_multi_escape_paper_N504K252_theta_-0.70.mat\n",
      "gdbf_multi_escape_paper_N504K252_theta_-0.50.mat\n",
      "gdbf_multi_escape_paper_N504K252_theta_-0.80.mat\n",
      "gdbf_multi_escape_paper_N96K48_theta_-1.00.mat\n",
      "gdbf_multi_escape_paper_N504K252_theta_-0.60.mat\n",
      "gdbf_multi_escape_paper_N504K252_theta_-0.30.mat\n",
      "gdbf_multi_escape_paper_N96K48_theta_-0.50.mat\n",
      "gdbf_multi_escape_paper_N504K252_theta_0.00.mat\n",
      "gdbf_multi_escape_paper_N96K48_theta_0.00.mat\n",
      "gdbf_multi_escape_paper_N504K252_theta_-0.40.mat\n",
      "gdbf_multi_escape_paper_N96K48_theta_-1.30.mat\n",
      "gdbf_multi_escape_paper_N504K252_theta_-1.50.mat\n",
      "gdbf_multi_escape_paper_N504K252_theta_-1.30.mat\n"
     ]
    }
   ],
   "source": [
    "import os\n",
    "for filename in os.listdir(\"./\"):\n",
    "    if 'theta1' in filename:\n",
    "        new_filename = filename.replace('theta1', 'theta')\n",
    "        print(new_filename)\n"
   ]
  },
  {
   "cell_type": "code",
   "execution_count": 7,
   "metadata": {},
   "outputs": [
    {
     "name": "stdout",
     "output_type": "stream",
     "text": [
      "Renamed: gdbf_multi_escape_paper_N96K48_theta1_-0.10.mat to gdbf_multi_escape_paper_N96K48_theta_-0.10.mat\n",
      "Renamed: gdbf_multi_escape_paper_N504K252_theta1_-1.00.mat to gdbf_multi_escape_paper_N504K252_theta_-1.00.mat\n",
      "Renamed: gdbf_multi_escape_paper_N96K48_theta1_-1.20.mat to gdbf_multi_escape_paper_N96K48_theta_-1.20.mat\n",
      "Renamed: gdbf_multi_escape_paper_N96K48_theta1_-1.10.mat to gdbf_multi_escape_paper_N96K48_theta_-1.10.mat\n",
      "Renamed: gdbf_multi_escape_paper_N504K252_theta1_-1.20.mat to gdbf_multi_escape_paper_N504K252_theta_-1.20.mat\n",
      "Renamed: gdbf_multi_escape_paper_N96K48_theta1_-0.70.mat to gdbf_multi_escape_paper_N96K48_theta_-0.70.mat\n",
      "Renamed: gdbf_multi_escape_paper_N504K252_theta1_-0.10.mat to gdbf_multi_escape_paper_N504K252_theta_-0.10.mat\n",
      "Renamed: gdbf_multi_escape_paper_N504K252_theta1_-0.90.mat to gdbf_multi_escape_paper_N504K252_theta_-0.90.mat\n",
      "Renamed: gdbf_multi_escape_paper_N504K252_theta1_-1.10.mat to gdbf_multi_escape_paper_N504K252_theta_-1.10.mat\n",
      "Renamed: gdbf_multi_escape_paper_N96K48_theta1_-0.60.mat to gdbf_multi_escape_paper_N96K48_theta_-0.60.mat\n",
      "Renamed: gdbf_multi_escape_paper_N96K48_theta1_-0.20.mat to gdbf_multi_escape_paper_N96K48_theta_-0.20.mat\n",
      "Renamed: gdbf_multi_escape_paper_N504K252_theta1_-0.20.mat to gdbf_multi_escape_paper_N504K252_theta_-0.20.mat\n",
      "Renamed: gdbf_multi_escape_paper_N96K48_theta1_-0.90.mat to gdbf_multi_escape_paper_N96K48_theta_-0.90.mat\n",
      "Renamed: gdbf_multi_escape_paper_N96K48_theta1_-0.40.mat to gdbf_multi_escape_paper_N96K48_theta_-0.40.mat\n",
      "Renamed: gdbf_multi_escape_paper_N96K48_theta1_-0.80.mat to gdbf_multi_escape_paper_N96K48_theta_-0.80.mat\n",
      "Renamed: gdbf_multi_escape_paper_N504K252_theta1_-1.40.mat to gdbf_multi_escape_paper_N504K252_theta_-1.40.mat\n",
      "Renamed: gdbf_multi_escape_paper_N96K48_theta1_-0.30.mat to gdbf_multi_escape_paper_N96K48_theta_-0.30.mat\n",
      "Renamed: gdbf_multi_escape_paper_N504K252_theta1_-0.70.mat to gdbf_multi_escape_paper_N504K252_theta_-0.70.mat\n",
      "Renamed: gdbf_multi_escape_paper_N504K252_theta1_-0.50.mat to gdbf_multi_escape_paper_N504K252_theta_-0.50.mat\n",
      "Renamed: gdbf_multi_escape_paper_N504K252_theta1_-0.80.mat to gdbf_multi_escape_paper_N504K252_theta_-0.80.mat\n",
      "Renamed: gdbf_multi_escape_paper_N96K48_theta1_-1.00.mat to gdbf_multi_escape_paper_N96K48_theta_-1.00.mat\n",
      "Renamed: gdbf_multi_escape_paper_N504K252_theta1_-0.60.mat to gdbf_multi_escape_paper_N504K252_theta_-0.60.mat\n",
      "Renamed: gdbf_multi_escape_paper_N504K252_theta1_-0.30.mat to gdbf_multi_escape_paper_N504K252_theta_-0.30.mat\n",
      "Renamed: gdbf_multi_escape_paper_N96K48_theta1_-0.50.mat to gdbf_multi_escape_paper_N96K48_theta_-0.50.mat\n",
      "Renamed: gdbf_multi_escape_paper_N504K252_theta1_0.00.mat to gdbf_multi_escape_paper_N504K252_theta_0.00.mat\n",
      "Renamed: gdbf_multi_escape_paper_N96K48_theta1_0.00.mat to gdbf_multi_escape_paper_N96K48_theta_0.00.mat\n",
      "Renamed: gdbf_multi_escape_paper_N504K252_theta1_-0.40.mat to gdbf_multi_escape_paper_N504K252_theta_-0.40.mat\n",
      "Renamed: gdbf_multi_escape_paper_N96K48_theta1_-1.30.mat to gdbf_multi_escape_paper_N96K48_theta_-1.30.mat\n",
      "Renamed: gdbf_multi_escape_paper_N504K252_theta1_-1.50.mat to gdbf_multi_escape_paper_N504K252_theta_-1.50.mat\n",
      "Renamed: gdbf_multi_escape_paper_N504K252_theta1_-1.30.mat to gdbf_multi_escape_paper_N504K252_theta_-1.30.mat\n"
     ]
    }
   ],
   "source": [
    "\n",
    "def rename_files(directory):\n",
    "    for filename in os.listdir(directory):\n",
    "        if 'theta1' in filename:\n",
    "            new_filename = filename.replace('theta1', 'theta')\n",
    "            os.rename(os.path.join(directory, filename), os.path.join(directory, new_filename))\n",
    "            print(f'Renamed: {filename} to {new_filename}')\n",
    "\n",
    "# Specify the directory where the files are located\n",
    "directory = \"./\"\n",
    "\n",
    "rename_files(directory)\n"
   ]
  },
  {
   "cell_type": "code",
   "execution_count": null,
   "metadata": {},
   "outputs": [],
   "source": [
    "\n",
    "\n",
    "# Specify the directory where the files are located\n",
    "directory = '/path/to/your/directory'\n",
    "\n",
    "rename_files(directory)\n"
   ]
  }
 ],
 "metadata": {
  "kernelspec": {
   "display_name": ".venv",
   "language": "python",
   "name": "python3"
  },
  "language_info": {
   "codemirror_mode": {
    "name": "ipython",
    "version": 3
   },
   "file_extension": ".py",
   "mimetype": "text/x-python",
   "name": "python",
   "nbconvert_exporter": "python",
   "pygments_lexer": "ipython3",
   "version": "3.12.3"
  }
 },
 "nbformat": 4,
 "nbformat_minor": 2
}
